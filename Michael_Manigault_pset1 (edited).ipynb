{
 "cells": [
  {
   "cell_type": "markdown",
   "metadata": {},
   "source": [
    "# Problem Set 1 (100 points + 15 bonus points)\n",
    "\n",
    "### Due: October 7th 2020, 6:30pm\n",
    "\n",
    "---\n",
    "\n",
    "This problem set will test your understanding on Python Basics (Sessions 2 - 3) and the `pandas` and `numpy` packages (Session 4). It also includes a couple of questions on your final project. \n",
    "\n",
    "Please carefully review our Jupyter Notebooks and [class exercises](https://www.notion.so/Data-790-Solutions-to-Class-Exercises-88b6957852274c288fd004f88400c5c2) before you start working on the problems. You may also come to my [office hours](https://app.acuityscheduling.com/schedule.php?owner=20428964) if you are still struggling with some parts of the course content. \n",
    "\n",
    "For each of the problems, the rubric for grading is as following:\n",
    "\n",
    "|   Grade     |   Description    |\n",
    "|:-------|:------|\n",
    "| Full points| The program is bug free and does everything the prompt asks for, and it includes appropriate comments and docstring (for functions).|\n",
    "| 80% - 99% of the points | The program does most things the prompt asks for and is more or less bug free, and it includes  comments/docstring.       |\n",
    "| 50% - 79% of the points | The program has some *hidden / occasional* bugs. It may fail some, but not all, test cases.  |\n",
    "| less than 50% of the points | The program is buggy and cannot run (throws an error), but you showed some amount of understanding of the concepts.|\n",
    "| 0 point | Did not provide any solution or showed little to zero understanding of the concepts. |\n",
    "\n",
    "**Note 1: Please refer to *Lecture 3 Jupyter Notebook* for the definitions of *hidden/occasional* bugs, and to learn about how to debug your programs. You may want to test the functionalities of your programs with a few test cases before you submit your answers.** \n",
    "\n",
    "**Note 2: Each problem may have multiple solutions.**\n",
    "\n",
    "**Note 3: Since this is our first pset, I left hints for most of the problems to help Python beginners. However, if you are somewhat familiar with Python, please try to solve the problems on your own unless you really need some clues.**"
   ]
  },
  {
   "cell_type": "markdown",
   "metadata": {},
   "source": [
    "<div class = \"alert alert-warning\">\n",
    " \n",
    "\n",
    "You may work collaboratively with other classmates (and you are encouraged to use the Discussion Board). However, you should **clearly indicate whom you work/consult with** for the specific problems that you worked on with others. (Just leave a comment or Markdown note for that specific problem(s).) <br>\n",
    "\n",
    "You should **never** copy and paste others' code. Problem sets without proper acknowledgement violates [class policies](https://www.notion.so/DATA-790-Data-Visualization-with-Python-bebb5931ca584d0f904e7d6c64010d7d), and plagiarism will lead to a zero mark. <br>\n",
    "    \n",
    "</div>"
   ]
  },
  {
   "cell_type": "markdown",
   "metadata": {},
   "source": [
    "---\n",
    "## Q1. Control Flows and Simple functions (10 points)\n",
    "\n",
    "Let's first warm up by writing a couple of simple programs involving control flows (the problems are adapted from our class exercises.) <br>\n",
    "\n",
    "Control flow and funtion are the most basic set-up for many complicated programs, and you will use them a lot throughout this pset.\n",
    "\n",
    "### A. Check vowels and consonants (5 pts)\n",
    "\n",
    "Please write a small peice of control flow to check and print out the number of vowels and the number of consonants in a string `s` = `Welcome to DATA seven ninety Data Visualization with Python`."
   ]
  },
  {
   "cell_type": "markdown",
   "metadata": {},
   "source": [
    "**[Double click here to see hints]**\n",
    "\n",
    "<!----\n",
    "\n",
    "1. Use a for loop and if statements.\n",
    "2. Python is case sensitive, such that `a` != `A`.\n",
    "\n",
    "--->"
   ]
  },
  {
   "cell_type": "code",
   "execution_count": 20,
   "metadata": {},
   "outputs": [
    {
     "name": "stdout",
     "output_type": "stream",
     "text": [
      "Number of vowels in the statement: 19\n",
      "Number of consonants in the statement: 40\n"
     ]
    }
   ],
   "source": [
    "s = 'Welcome to DATA seven ninety Data Visualization with Python'\n",
    "vows = ['a', 'e', 'i', 'o', 'u']\n",
    "\n",
    "## your code below:\n",
    "svows = 0\n",
    "scons = 0\n",
    "\n",
    "for s in 'Welcome to DATA seven ninety Data Visualization with Python':\n",
    "        if s in vows: ## if loop for if there are a vowel\n",
    "            svows += 1\n",
    "        elif s == '': ## whitespaces represent neither vows (vowels) nor consonants (cons)\n",
    "            continue ## continues the for loop\n",
    "    \n",
    "        else:   ## else if there is a consonant\n",
    "            scons += 1\n",
    "\n",
    "print(\"Number of vowels in the statement:\", svows)\n",
    "\n",
    "print(\"Number of consonants in the statement:\", scons)\n",
    "\n"
   ]
  },
  {
   "cell_type": "markdown",
   "metadata": {},
   "source": [
    "### B. Odd or Even (5 pts)\n",
    "Please write a small function `odd_even()`, which takes in a number `n` (int or float) and returns the string, `\"The number is odd.\"`, if the number is odd, returns the string, `\"The number is even.\"`, if the number is even, and returns the string, `\"The number is a float.\"`, if the number is a float.  <br>"
   ]
  },
  {
   "cell_type": "markdown",
   "metadata": {},
   "source": [
    "**[Double click here to see hints]**\n",
    "\n",
    "<!---\n",
    "\n",
    "1. Use the remainder of n divided by 2 to check whether a number is odd or even. \n",
    "2. use `%` to calculate remainder.\n",
    "\n",
    "--->"
   ]
  },
  {
   "cell_type": "code",
   "execution_count": 27,
   "metadata": {},
   "outputs": [
    {
     "name": "stdout",
     "output_type": "stream",
     "text": [
      "The number is even.\n"
     ]
    }
   ],
   "source": [
    "def odd_even(n):\n",
    "    '''\n",
    "    add docstring here\n",
    "    '''\n",
    "    ## your code here\n",
    "    if type(n) == int:\n",
    "        if (n % 2) == 0: ## remainder operater used to determine if n is an odd or even number\n",
    "            print(\"The number is even.\")\n",
    "        else:\n",
    "            print(\"The number is odd.\")\n",
    "    elif type(n) == float:\n",
    "         print(\"The number is a float.\")\n",
    "    \n",
    "odd_even(4)  ##testing the user defined variable"
   ]
  },
  {
   "cell_type": "markdown",
   "metadata": {},
   "source": [
    "## Q2. Operations on lists (5 points)\n",
    "\n",
    "A list is one of the most commonly used \"container\" types in Python. \n",
    "\n",
    "Please write a function `list_oper()`, which take as input two lists `a_list` ($[a_1, a_2, ..., a_n]$) and `b_list` ($[b_1, b_2, ..., b_n]$), both of the same length, and computes\n",
    "\n",
    "$$2a_i + b_i^2$$\n",
    "\n",
    "for each $a_i$,  $b_i$ in the two lists, then returns a list of the returned values ($[2a_1+b_1^2, 2a_2+b_2^2, ..., 2a_n+b_n^2]$).\n",
    "\n",
    "You may assume both lists are of the same length (so your code does not need to check for this). "
   ]
  },
  {
   "cell_type": "markdown",
   "metadata": {},
   "source": [
    "**[Double click here to see hints]**\n",
    "\n",
    "<!---\n",
    "\n",
    "1. You could use a `zip()` function. \n",
    "2. Alternatively, you could use `range()` and `len()` to loop over sequences. \n",
    "\n",
    "--->"
   ]
  },
  {
   "cell_type": "code",
   "execution_count": 1,
   "metadata": {},
   "outputs": [
    {
     "data": {
      "text/plain": [
       "[0, 64, 210]"
      ]
     },
     "execution_count": 1,
     "metadata": {},
     "output_type": "execute_result"
    }
   ],
   "source": [
    "def list_oper(a_list, b_list):\n",
    "    '''\n",
    "    add docstring here\n",
    "    '''\n",
    "    #your code here\n",
    "    \n",
    "    return[2*a+b**2 for a,b in zip(a_list,b_list)]  ##zip() function used to combine both lists.\n",
    "    \n",
    "list_oper([-2, 0, 7], [2, 8, 14]) ##testing the user defined variable\n",
    "    \n",
    "    \n"
   ]
  },
  {
   "cell_type": "markdown",
   "metadata": {},
   "source": [
    "## Q3. Convert binary to decimal, and vice versa (10 points + 10 bonus points)\n",
    "\n",
    "When we encountered the floating-point errors during class, we talked about the binary representation of numbers in computer memory. You know that all numbers are stored as base-2 numbers in computers. \n",
    "\n",
    "### A. Let's first consider the conversion from binary numbers to integers. (10 pts)\n",
    "\n",
    "Please write a function `b2d()`, which takes a binary number `b` (base 2) as input, converts the number to its decimal form (base 10), and returns the decimal number.  \n",
    "\n",
    "#### How to convert binary to base 10?\n",
    "\n",
    "[This webpage](https://www.rapidtables.com/convert/number/binary-to-decimal.html) describes the steps to convert binary to int. Please read the steps and write a Python program accordingly. \n",
    "\n",
    "For example, if the input is a binary `1011`, your function should return the integer `11` ($1\\times2^3+0\\times2^2+1\\times2^1+1\\times2^0=11$). If the input is a binary `10011`, your function should return the integer `19` ($1\\times2^4+0\\times2^3+0\\times2^2+1\\times2^1+1\\times2^0=19$). \n",
    "\n",
    "**You only need to consider positive integers when writing the program.**\n",
    "\n",
    "*Note: please write your own function and do not use the built-in function `int(b, base=2)` to convert binary to int.*"
   ]
  },
  {
   "cell_type": "markdown",
   "metadata": {},
   "source": [
    "**[Dpuble click here to see hints]**\n",
    "\n",
    "<!--------\n",
    "1. You could convert the binary number `b` to a str in order to deal with each digit one by one. \n",
    "2. Then how to do the necessary calculations if the digits are `str` type? Just convert them back. \n",
    "3. Alternatively, you could use arithmatic operations to access each digit one by one. \n",
    "------>"
   ]
  },
  {
   "cell_type": "code",
   "execution_count": 38,
   "metadata": {},
   "outputs": [
    {
     "data": {
      "text/plain": [
       "9"
      ]
     },
     "execution_count": 38,
     "metadata": {},
     "output_type": "execute_result"
    }
   ],
   "source": [
    "def b2d(b):\n",
    "    '''\n",
    "    add docstring here\n",
    "    '''\n",
    "    ## your code here\n",
    "    ## used Quora for guidance. I forgot to mention that last time.\n",
    "    b = str(b)[::-1] ##str() function used to convert binary to string\n",
    "    d = 0 \n",
    "    \n",
    "    for n in range(len(b)):\n",
    "        d += int(b[n]) * 2 ** n ##coverts string back to digits\n",
    "\n",
    "    return d\n",
    " \n",
    "b2d(1001) ##testing the user defined variable"
   ]
  },
  {
   "cell_type": "markdown",
   "metadata": {},
   "source": [
    "### B. Now let's try to convert decimal to binary. (Optional, 10 bonus pts)\n",
    "\n",
    "**This problem is optional, but it is not difficult. It just requires the use of a `while` loop. You may read Lecture 3 Jupyter Notebook to learn about `while` loops, and earn up to 10 bonus points if you solve this problem.**\n",
    "\n",
    "Please write a function `d2b()` which takes **a positive integer `n`** (base 10) as input, converts the number to its binary form (base 2), and returns the binary number as a **string**. \n",
    "\n",
    "*Note: please write your own function and do not use the built-in function `bin()` or `format()` to convert int to binary.*\n",
    "\n",
    "#### How to convert a decimal number (integer) to a binary number?\n",
    "\n",
    "[This webpage](https://www.rapidtables.com/convert/number/how-decimal-to-binary.html) describes the convertion process in four steps. Please refer to the steps to write your function. \n",
    "\n",
    "For example, if the input is an integer `13`, your function should return a string `1101`.\n",
    "\n",
    "If the input is an integer `174`, your function should return a string `10101110`. "
   ]
  },
  {
   "cell_type": "markdown",
   "metadata": {},
   "source": [
    "**[Double click here to see hints]**\n",
    "\n",
    "\n",
    "<!-----\n",
    "\n",
    "1. Use `//` to calculate the integer quotient; Use `%` to calculate the remainder. \n",
    "2. when you return the final outcome, you could use the string method `.join()` to turn a list of numbers into a string of digits. But remember that .join() only works on `str` type. (see Lecture 3 notebook.)\n",
    "3. for advanced Python users: a `while` loop is useful here. But possible solutions are not limited to it. You could also use a recursive function. \n",
    "\n",
    "--->"
   ]
  },
  {
   "cell_type": "code",
   "execution_count": 7,
   "metadata": {},
   "outputs": [
    {
     "data": {
      "text/plain": [
       "'100'"
      ]
     },
     "execution_count": 7,
     "metadata": {},
     "output_type": "execute_result"
    }
   ],
   "source": [
    "def d2b(n):\n",
    "    '''\n",
    "    add docstring here\n",
    "    '''\n",
    "    ## your code here\n",
    "    \n",
    "    decimal = []\n",
    "    while n > 0:\n",
    "        if n % 2 == 0:\n",
    "            decimal.append(0)\n",
    "        else:\n",
    "            decimal.append(1)\n",
    "        n = n // 2\n",
    " \n",
    "    decimal = [str(i) for i in decimal]\n",
    "    \n",
    "    return ''.join(decimal[::-1])\n",
    "    \n",
    "d2b(4) ##testing the user defined variable\n",
    "    "
   ]
  },
  {
   "cell_type": "markdown",
   "metadata": {},
   "source": [
    "## Q4. Pig Latin (10 points)\n",
    "\n",
    "In this question, we will work on converting words into a simpler version of [Pig Latin](https://en.wikipedia.org/wiki/Pig_Latin). \n",
    "\n",
    "In particular, please write a function `pig_latin()` which takes a string `s` as input, and converts the string to a Pig Latin  following two rules below:\n",
    "\n",
    "1. if a string begins with a consonant, all consonants before **the first vowel** are moved to the end of the word and the letters `yay` are then added to the end, e.g. \"data\" becomes \"atadyay\" or \"smile\" becomes \"ilesmyay\".\n",
    "2. if the string begins with a vowel, then \"hay\" is added to the end, e.g. \"apple\" becomes \"applehay\". \n",
    "\n",
    "Your function `pig_latin()` will then return the Pig Latin version of the input string. You may assume the input is a **lowercase string**. "
   ]
  },
  {
   "cell_type": "markdown",
   "metadata": {},
   "source": [
    "**[Double click here to see hints]**\n",
    "\n",
    "<!---\n",
    "Note that you should only move the consonants before the first vowel. This means your program should be able to `break` when it hits the first vowel in the string. \n",
    "---->"
   ]
  },
  {
   "cell_type": "code",
   "execution_count": 38,
   "metadata": {},
   "outputs": [],
   "source": [
    "sentence = \"apple\""
   ]
  },
  {
   "cell_type": "code",
   "execution_count": 39,
   "metadata": {},
   "outputs": [
    {
     "data": {
      "text/plain": [
       "'apple'"
      ]
     },
     "execution_count": 39,
     "metadata": {},
     "output_type": "execute_result"
    }
   ],
   "source": [
    "sentence"
   ]
  },
  {
   "cell_type": "code",
   "execution_count": 42,
   "metadata": {},
   "outputs": [
    {
     "name": "stdout",
     "output_type": "stream",
     "text": [
      "a\n",
      "p\n",
      "p\n",
      "l\n",
      "e\n"
     ]
    }
   ],
   "source": [
    "for a in sentence:\n",
    "    print(a)"
   ]
  },
  {
   "cell_type": "code",
   "execution_count": 43,
   "metadata": {},
   "outputs": [
    {
     "data": {
      "text/plain": [
       "'e'"
      ]
     },
     "execution_count": 43,
     "metadata": {},
     "output_type": "execute_result"
    }
   ],
   "source": [
    "a"
   ]
  },
  {
   "cell_type": "code",
   "execution_count": 10,
   "metadata": {},
   "outputs": [
    {
     "data": {
      "text/plain": [
       "'applehay'"
      ]
     },
     "execution_count": 10,
     "metadata": {},
     "output_type": "execute_result"
    }
   ],
   "source": [
    "def pig_latin(s):    \n",
    "    '''\n",
    " add docstring here\n",
    "    '''\n",
    "    vow = ['a', 'e', 'i', 'o', 'u']\n",
    "    \n",
    "    ## your code here\n",
    "    if len(s) <= 1 or ' ' in s:\n",
    "        return None\n",
    "    \n",
    "    elif s[0] in vow: ## if word starts with a vowel\n",
    "        return s + 'hay' ## 'hay' will be added\n",
    "    \n",
    "    else:           ## if word starts with a consonant\n",
    "        temp = ''\n",
    "        for i in range(len(s)):\n",
    "            if s[i] not in vow:\n",
    "                temp += s[i]\n",
    "            else:\n",
    "                break\n",
    "        return s[i:] + temp + 'yay' ## 'yay' will be added\n",
    "\n",
    "\n",
    "pig_latin('apple') ##testing the user defined variable\n"
   ]
  },
  {
   "cell_type": "code",
   "execution_count": 12,
   "metadata": {},
   "outputs": [
    {
     "data": {
      "text/plain": [
       "False"
      ]
     },
     "execution_count": 12,
     "metadata": {},
     "output_type": "execute_result"
    }
   ],
   "source": [
    "' ' in 'a'"
   ]
  },
  {
   "cell_type": "code",
   "execution_count": 9,
   "metadata": {},
   "outputs": [],
   "source": [
    "pig_latin('apple')"
   ]
  },
  {
   "cell_type": "markdown",
   "metadata": {},
   "source": [
    "## Q5. Longest substring (10 points)\n",
    "\n",
    "Let's continue to play around with `str`.\n",
    "\n",
    "Please write a function `long_sub()` which takes a *lowercase* string `s` as input, and returns the longest substring of `s` that is in alphabetical order. \n",
    "\n",
    "For example, if `s = fdhakgbaaekvadsnfda`, then your function should return:\n",
    "```python\n",
    "'aaekv'\n",
    "```\n",
    "\n",
    "If there are ties, your function should return the first substring. For example, if `s = bcdabcaoi`, then your function should return:\n",
    "\n",
    "```python\n",
    "'bcd'\n",
    "```    \n",
    "\n",
    "*Note:* This question may be difficult. If you spend more than one hour on it, I would suggest that you move on to other parts of the pset and come back later. When some programs are challenging, we should take breaks and do not try to crack it in one sitting. \n",
    "\n",
    "I left a few important hints in the cell below. Feel free to check them out. "
   ]
  },
  {
   "cell_type": "markdown",
   "metadata": {},
   "source": [
    "**[Double click here to see hints]**\n",
    "\n",
    "<!---\n",
    "\n",
    "1. Use `<` `>` on strings to check alphabetical order. \n",
    "\n",
    "2. According to Python slice notation, s[1] is equivalent to s[1:2].\n",
    "\n",
    "3. You may encounter an IndexError if your index is out of range. However, as we emphasized during class, some expressions, e.g. s[-1:0] will return an empty string '' instead of raising an error. \n",
    "\n",
    "---->"
   ]
  },
  {
   "cell_type": "code",
   "execution_count": 10,
   "metadata": {},
   "outputs": [
    {
     "data": {
      "text/plain": [
       "'ab'"
      ]
     },
     "execution_count": 10,
     "metadata": {},
     "output_type": "execute_result"
    }
   ],
   "source": [
    "def long_sub(s):\n",
    "    '''\n",
    "    add docstring here\n",
    "    '''\n",
    "    ## your code here\n",
    "    ## Rachel was helping me with this question.\n",
    "    \n",
    "    currentString = ''\n",
    "    longestString = ''\n",
    "    \n",
    "    for i in range(len(s)):\n",
    "        if s[i-1:i] <= s[i]:\n",
    "            currentString += s[i]\n",
    "            if len(currentString) > len(longestString):\n",
    "                    longestString = currentString\n",
    "        else:\n",
    "            currentString = s[i]\n",
    "    \n",
    "    return longestString\n",
    "    \n",
    "long_sub('ab') ##testing the user defined variable\n",
    "    \n",
    "    \n",
    "    "
   ]
  },
  {
   "cell_type": "markdown",
   "metadata": {},
   "source": [
    "## Q6. NumPy Exercises (10 points)\n",
    "\n",
    "Now let's turn to practicing the use of two important packages, `numpy` and `pandas`. \n",
    "\n",
    "First, you will solve a series of short NumPy exercises. \n",
    "\n",
    "### A. Redo Q2, but this time use NumPy. `a_list` and `b_list` can be either `np.array` or `list`. Make sure your return is a `np.array`.  (3 pts)"
   ]
  },
  {
   "cell_type": "code",
   "execution_count": 14,
   "metadata": {},
   "outputs": [],
   "source": [
    "## first, import the `numpy` package: \n",
    "\n",
    "import numpy as np\n",
    "## then, define your function:\n",
    "\n",
    "def np_list_oper(a_list, b_list):\n",
    "    '''\n",
    "    add docstring\n",
    "    '''\n",
    "    ## your code here\n",
    "  \n",
    "    return 2 * np.array(a_list) + np.array(b_list)**2"
   ]
  },
  {
   "cell_type": "code",
   "execution_count": 15,
   "metadata": {},
   "outputs": [
    {
     "name": "stdout",
     "output_type": "stream",
     "text": [
      "[False False False]\n"
     ]
    }
   ],
   "source": [
    "print(np_list_oper([-9, 6, 13], [3, 8, 34]) == np.array([22, 78, 90])) ##testing the user defined variable"
   ]
  },
  {
   "cell_type": "markdown",
   "metadata": {},
   "source": [
    "### B. Write a function `all_even` that takes in a `np.array`, `arr` and returns a `np.array` of all values in `arr` that are even numbers.  (3 pts)"
   ]
  },
  {
   "cell_type": "code",
   "execution_count": 87,
   "metadata": {},
   "outputs": [
    {
     "name": "stdout",
     "output_type": "stream",
     "text": [
      "[False False False False False]\n"
     ]
    }
   ],
   "source": [
    "def all_even(arr):\n",
    "    '''\n",
    "    add docstring\n",
    "    '''\n",
    "    ## your code here\n",
    "    \n",
    "\n",
    "    return arr[arr % 2 == 0]\n",
    "\n",
    "print(all_even(np.array([2, 4, 6, 8, 10])) == np.array([1, 3, 5, 7, 9])) ##testing the user defined variable"
   ]
  },
  {
   "cell_type": "markdown",
   "metadata": {},
   "source": [
    "### C. Write a function `mark_the_evens` that takes in a `np.array`, `arr` and returns a `np.array` of all values in `arr`, except all even numbers are replaced by `np.nan` (4 pts)"
   ]
  },
  {
   "cell_type": "markdown",
   "metadata": {},
   "source": [
    "**[Double click here to see hints]**\n",
    "\n",
    "<!---\n",
    "\n",
    "What does `np.where` do?\n",
    "\n",
    "--->"
   ]
  },
  {
   "cell_type": "code",
   "execution_count": 89,
   "metadata": {},
   "outputs": [
    {
     "name": "stdout",
     "output_type": "stream",
     "text": [
      "[nan]\n"
     ]
    }
   ],
   "source": [
    "def mark_the_evens(arr):\n",
    "    '''\n",
    "    add docstring\n",
    "    '''\n",
    "    ## your code here    \n",
    "    \n",
    "    \n",
    "    return np.where(arr % 2 == 0, np.nan, arr)\n",
    "\n",
    "print (mark_the_evens(np.array([6]))) ##testing the user defined variable\n",
    "\n",
    "    \n",
    "    \n",
    "    \n",
    "    \n",
    "    "
   ]
  },
  {
   "cell_type": "markdown",
   "metadata": {},
   "source": [
    "## Q7. Approximate $\\pi\\$, Monte Carlo (10 points)\n",
    "\n",
    "`numpy` is not only useful for matrix and array processing and scientific computation, it is also very useful for generating random numbers, a feature that we need for simulations. \n",
    "\n",
    "In this problem, we will approximate $\\pi$ (which is 3.14159...) using [Monte Carlo simulations](https://en.wikipedia.org/wiki/Monte_Carlo_method) -- you may think of this method roughly as using many random samples to get an approximation. \n",
    "\n",
    "Now, consider a circle with diameter 1 that is inside a unit square $(0, 1)^2$. It looks like this:\n",
    "\n",
    "<img src = \"https://geometryhelp.net/wp-content/uploads/2019/08/Circle-inscribed-in-a-square.jpg\" align = center, width = 200>\n",
    "\n",
    "\n",
    "\n",
    "Let $A$ be the circle's area, and let $r$ be its radius (so $r=1/2$). Therefore the area of the circle is $A=\\pi r^2$. \n",
    "\n",
    "However, suppose we do not know the value of $\\pi$, and our task is to calculate the approximation of $\\pi$. \n",
    "\n",
    "To do this, we can calculate $\\pi$ as $A/r^2$. But, still, $A$ is unknown to us. How to address this problem? \n",
    "\n",
    "According to the Monte Carlo method, we can randomly sample a really large number of points ($n=10000$ at least) from within the square, then the fraction of the points landing on the circle is equal to the area of the circle. \n",
    "\n",
    "Following this logic, please write a program to approximate $\\pi$ by first estimating the area $A$, then calculating $\\pi$ as $A/r^2$. \n",
    "\n",
    "Note: the distance formula between two points $(x_1, y_1)$ and $(x_2, y_2)$ is $\\sqrt{(x_1-x_2)^2+(y_1-y_2)^2}$.\n",
    "\n",
    "*Again, this problem may be challenging. Please move on to other parts of the pset if you've already spent a long time on it.*"
   ]
  },
  {
   "cell_type": "markdown",
   "metadata": {},
   "source": [
    "**[Double click here to see hints]**\n",
    "\n",
    "<!---\n",
    "\n",
    "1. Use `np.random.uniform()` to draw the coordinate (x, y) for a given random point within the unite square. `np.random.uniform()` returns a random number from 0 to 1. So you need to do the sampling twice (once for x, once for y).\n",
    "\n",
    "2. Use np.sqrt() to calculate distance using the distance formula.\n",
    "\n",
    "3. We know the center of the circle is (0.5, 0.5), then any point that falls within the circle must have a distance from the center less than what value?\n",
    "\n",
    "4. Again, the area of the circle can be calculated as the proportion of the points falling inside the circle (denoted as `count`) in the total number of random points that you draw (denoted as `n`). Therefore Area = count / n. \n",
    "\n",
    "5. A `for` loop with a `if` statement is enough for solving the problem. \n",
    "\n",
    "---->\n"
   ]
  },
  {
   "cell_type": "code",
   "execution_count": 4,
   "metadata": {},
   "outputs": [
    {
     "name": "stdout",
     "output_type": "stream",
     "text": [
      "3.1136\n"
     ]
    }
   ],
   "source": [
    "np.random.seed(790) \n",
    "\n",
    "n = 10000 # the number of random points that you would draw \n",
    "\n",
    "## your code below\n",
    "\n",
    "count = 0\n",
    "for i in range(n):\n",
    "    x = np.random.uniform()    \n",
    "    y = np.random.uniform()\n",
    "    distance = np.sqrt((x - 0.5)**2 + (y - 0.5)**2) ##distance formula\n",
    "    if distance < 0.5:\n",
    "        count += 1\n",
    "        \n",
    "    pi_estimate = 4 * count / n ##count/n = Area, pi = Area/radius^3 and Area/(0.5)^2 = Area*4\n",
    "    \n",
    "    \n",
    "print(pi_estimate)\n",
    "    \n",
    "    \n",
    "    \n",
    "    \n",
    "    \n",
    "    \n",
    "    \n",
    "    "
   ]
  },
  {
   "cell_type": "markdown",
   "metadata": {},
   "source": [
    "\n",
    "## Q8. Big Mac Index (25 points)\n",
    "\n",
    "Now let's move on to another important package, `pandas`. \n",
    "\n",
    "In this long problem, we will try to reproduce, step by step, the (unadjusted) Big Mac Index from *The Economist*, taken from this article titled [Burgernomics - The Big Mac index](https://www.economist.com/news/2020/07/15/the-big-mac-index). \n",
    "\n",
    "![](https://imgur.com/s8ngoz9.png)\n",
    "\n",
    "<br>\n",
    "<br>\n",
    "\n",
    "> As shown above, the big mac index was invented by *The Economist* in 1986 as a lighthearted guide to whether currencies are at their “correct” level. It is based on the theory of purchasing-power parity (PPP), the notion that in the long run exchange rates should move towards the rate that would equalise the prices of an identical basket of goods and services (in this case, a burger) in any two countries.\n",
    "\n",
    "The relevant data can be found at `https://raw.githubusercontent.com/TheEconomist/big-mac-data/master/source-data/big-mac-source-data.csv`. The first couple of rows of the DataFrame are shown here:\n",
    "\n",
    "![](https://imgur.com/rRKriDN.png)"
   ]
  },
  {
   "cell_type": "markdown",
   "metadata": {},
   "source": [
    "### A. Import packages, read in the data from the link above, and save it to a DataFrame sorted by date and then by country name. Display the last 5 rows of data. (3 pts)"
   ]
  },
  {
   "cell_type": "code",
   "execution_count": 5,
   "metadata": {},
   "outputs": [
    {
     "data": {
      "text/html": [
       "<div>\n",
       "<style scoped>\n",
       "    .dataframe tbody tr th:only-of-type {\n",
       "        vertical-align: middle;\n",
       "    }\n",
       "\n",
       "    .dataframe tbody tr th {\n",
       "        vertical-align: top;\n",
       "    }\n",
       "\n",
       "    .dataframe thead th {\n",
       "        text-align: right;\n",
       "    }\n",
       "</style>\n",
       "<table border=\"1\" class=\"dataframe\">\n",
       "  <thead>\n",
       "    <tr style=\"text-align: right;\">\n",
       "      <th></th>\n",
       "      <th>name</th>\n",
       "      <th>iso_a3</th>\n",
       "      <th>currency_code</th>\n",
       "      <th>local_price</th>\n",
       "      <th>dollar_ex</th>\n",
       "      <th>GDP_dollar</th>\n",
       "      <th>date</th>\n",
       "    </tr>\n",
       "  </thead>\n",
       "  <tbody>\n",
       "    <tr>\n",
       "      <th>1653</th>\n",
       "      <td>Ukraine</td>\n",
       "      <td>UKR</td>\n",
       "      <td>UAH</td>\n",
       "      <td>59.00</td>\n",
       "      <td>27.1300</td>\n",
       "      <td>3112.883</td>\n",
       "      <td>2020-07-01</td>\n",
       "    </tr>\n",
       "    <tr>\n",
       "      <th>1654</th>\n",
       "      <td>Uruguay</td>\n",
       "      <td>URY</td>\n",
       "      <td>UYU</td>\n",
       "      <td>189.00</td>\n",
       "      <td>43.6750</td>\n",
       "      <td>17014.132</td>\n",
       "      <td>2020-07-01</td>\n",
       "    </tr>\n",
       "    <tr>\n",
       "      <th>1655</th>\n",
       "      <td>United States</td>\n",
       "      <td>USA</td>\n",
       "      <td>USD</td>\n",
       "      <td>5.71</td>\n",
       "      <td>1.0000</td>\n",
       "      <td>62868.917</td>\n",
       "      <td>2020-07-01</td>\n",
       "    </tr>\n",
       "    <tr>\n",
       "      <th>1656</th>\n",
       "      <td>Vietnam</td>\n",
       "      <td>VNM</td>\n",
       "      <td>VND</td>\n",
       "      <td>66000.00</td>\n",
       "      <td>23180.0000</td>\n",
       "      <td>2551.123</td>\n",
       "      <td>2020-07-01</td>\n",
       "    </tr>\n",
       "    <tr>\n",
       "      <th>1657</th>\n",
       "      <td>South Africa</td>\n",
       "      <td>ZAF</td>\n",
       "      <td>ZAR</td>\n",
       "      <td>31.00</td>\n",
       "      <td>16.6725</td>\n",
       "      <td>6353.846</td>\n",
       "      <td>2020-07-01</td>\n",
       "    </tr>\n",
       "  </tbody>\n",
       "</table>\n",
       "</div>"
      ],
      "text/plain": [
       "               name iso_a3 currency_code  local_price   dollar_ex  GDP_dollar  \\\n",
       "1653        Ukraine    UKR           UAH        59.00     27.1300    3112.883   \n",
       "1654        Uruguay    URY           UYU       189.00     43.6750   17014.132   \n",
       "1655  United States    USA           USD         5.71      1.0000   62868.917   \n",
       "1656        Vietnam    VNM           VND     66000.00  23180.0000    2551.123   \n",
       "1657   South Africa    ZAF           ZAR        31.00     16.6725    6353.846   \n",
       "\n",
       "            date  \n",
       "1653  2020-07-01  \n",
       "1654  2020-07-01  \n",
       "1655  2020-07-01  \n",
       "1656  2020-07-01  \n",
       "1657  2020-07-01  "
      ]
     },
     "execution_count": 5,
     "metadata": {},
     "output_type": "execute_result"
    }
   ],
   "source": [
    "## Import necessary packages here\n",
    "\n",
    "import pandas as pd\n",
    "import numpy as np\n",
    "import matplotlib.pyplot as plt\n",
    "\n",
    "\n",
    "## Your code here\n",
    "## create new variable and dataframe\n",
    "url = 'https://raw.githubusercontent.com/TheEconomist/big-mac-data/master/source-data/big-mac-source-data.csv'\n",
    "df = pd.read_csv(url, header = 0)\n",
    "\n",
    "df.sort_values(['date','name']) \n",
    "df.tail(5)"
   ]
  },
  {
   "cell_type": "markdown",
   "metadata": {},
   "source": [
    "### B. Create a variable `latest_date` which is equal to the most recent date that we have values for. (1 pts)"
   ]
  },
  {
   "cell_type": "code",
   "execution_count": 8,
   "metadata": {},
   "outputs": [],
   "source": [
    "latest_date = df['date'].max()\n",
    "\n",
    "\n",
    "\n"
   ]
  },
  {
   "cell_type": "code",
   "execution_count": 21,
   "metadata": {},
   "outputs": [
    {
     "data": {
      "text/plain": [
       "'2020-07-01'"
      ]
     },
     "execution_count": 21,
     "metadata": {},
     "output_type": "execute_result"
    }
   ],
   "source": [
    "latest_date"
   ]
  },
  {
   "cell_type": "markdown",
   "metadata": {},
   "source": [
    "### C. Convert the prices to a uniform currency. (2 pts)\n",
    "\n",
    "Right now the `local_price` column shows the price in their own local currency, `dollar_ex` shows the exchange rate that can convert the `local_price` to the price in dollars of the Big Mac (`local_price` / `dollar_ex`). \n",
    "\n",
    "Using the two columns, please create a column named `dollar_price` that is  equal to `local_price` / `dollar_ex`. Then display **the last 5 rows** again. "
   ]
  },
  {
   "cell_type": "code",
   "execution_count": 12,
   "metadata": {},
   "outputs": [
    {
     "data": {
      "text/html": [
       "<div>\n",
       "<style scoped>\n",
       "    .dataframe tbody tr th:only-of-type {\n",
       "        vertical-align: middle;\n",
       "    }\n",
       "\n",
       "    .dataframe tbody tr th {\n",
       "        vertical-align: top;\n",
       "    }\n",
       "\n",
       "    .dataframe thead th {\n",
       "        text-align: right;\n",
       "    }\n",
       "</style>\n",
       "<table border=\"1\" class=\"dataframe\">\n",
       "  <thead>\n",
       "    <tr style=\"text-align: right;\">\n",
       "      <th></th>\n",
       "      <th>name</th>\n",
       "      <th>iso_a3</th>\n",
       "      <th>currency_code</th>\n",
       "      <th>local_price</th>\n",
       "      <th>dollar_ex</th>\n",
       "      <th>GDP_dollar</th>\n",
       "      <th>date</th>\n",
       "      <th>dollar_price</th>\n",
       "    </tr>\n",
       "  </thead>\n",
       "  <tbody>\n",
       "    <tr>\n",
       "      <th>1653</th>\n",
       "      <td>Ukraine</td>\n",
       "      <td>UKR</td>\n",
       "      <td>UAH</td>\n",
       "      <td>59.00</td>\n",
       "      <td>27.1300</td>\n",
       "      <td>3112.883</td>\n",
       "      <td>2020-07-01</td>\n",
       "      <td>2.174714</td>\n",
       "    </tr>\n",
       "    <tr>\n",
       "      <th>1654</th>\n",
       "      <td>Uruguay</td>\n",
       "      <td>URY</td>\n",
       "      <td>UYU</td>\n",
       "      <td>189.00</td>\n",
       "      <td>43.6750</td>\n",
       "      <td>17014.132</td>\n",
       "      <td>2020-07-01</td>\n",
       "      <td>4.327418</td>\n",
       "    </tr>\n",
       "    <tr>\n",
       "      <th>1655</th>\n",
       "      <td>United States</td>\n",
       "      <td>USA</td>\n",
       "      <td>USD</td>\n",
       "      <td>5.71</td>\n",
       "      <td>1.0000</td>\n",
       "      <td>62868.917</td>\n",
       "      <td>2020-07-01</td>\n",
       "      <td>5.710000</td>\n",
       "    </tr>\n",
       "    <tr>\n",
       "      <th>1656</th>\n",
       "      <td>Vietnam</td>\n",
       "      <td>VNM</td>\n",
       "      <td>VND</td>\n",
       "      <td>66000.00</td>\n",
       "      <td>23180.0000</td>\n",
       "      <td>2551.123</td>\n",
       "      <td>2020-07-01</td>\n",
       "      <td>2.847282</td>\n",
       "    </tr>\n",
       "    <tr>\n",
       "      <th>1657</th>\n",
       "      <td>South Africa</td>\n",
       "      <td>ZAF</td>\n",
       "      <td>ZAR</td>\n",
       "      <td>31.00</td>\n",
       "      <td>16.6725</td>\n",
       "      <td>6353.846</td>\n",
       "      <td>2020-07-01</td>\n",
       "      <td>1.859349</td>\n",
       "    </tr>\n",
       "  </tbody>\n",
       "</table>\n",
       "</div>"
      ],
      "text/plain": [
       "               name iso_a3 currency_code  local_price   dollar_ex  GDP_dollar  \\\n",
       "1653        Ukraine    UKR           UAH        59.00     27.1300    3112.883   \n",
       "1654        Uruguay    URY           UYU       189.00     43.6750   17014.132   \n",
       "1655  United States    USA           USD         5.71      1.0000   62868.917   \n",
       "1656        Vietnam    VNM           VND     66000.00  23180.0000    2551.123   \n",
       "1657   South Africa    ZAF           ZAR        31.00     16.6725    6353.846   \n",
       "\n",
       "            date  dollar_price  \n",
       "1653  2020-07-01      2.174714  \n",
       "1654  2020-07-01      4.327418  \n",
       "1655  2020-07-01      5.710000  \n",
       "1656  2020-07-01      2.847282  \n",
       "1657  2020-07-01      1.859349  "
      ]
     },
     "execution_count": 12,
     "metadata": {},
     "output_type": "execute_result"
    }
   ],
   "source": [
    "## your code here\n",
    "df['dollar_price'] = df['local_price'] / df['dollar_ex']\n",
    "df.tail(5)\n",
    "\n"
   ]
  },
  {
   "cell_type": "markdown",
   "metadata": {},
   "source": [
    "### D. Create a copy of a subset of `df`, storing it in a new dataframe called `bmi` (Big Mac Index), such that it only includes countries in the `big_mac_countries` list and with `date` equal to the `latest_date` from question (B). Do this in one line. (7 pts)\n",
    "\n",
    "**[Double click here to see hints]**\n",
    "\n",
    "<!---\n",
    "\n",
    "1. Recall that for a pd.Series, if you want multiple filters, you should not use `and` and `or`, but rather you should use bitwise operations. \n",
    "\n",
    "---->"
   ]
  },
  {
   "cell_type": "code",
   "execution_count": 10,
   "metadata": {
    "scrolled": true
   },
   "outputs": [],
   "source": [
    "## below is the list of Big mac countries.\n",
    "\n",
    "big_mac_countries = ['ARG', 'AUS', 'BRA', 'GBR', 'CAN', 'CHL', 'CHN', 'CZE', 'DNK',\n",
    "                     'EGY', 'HKG', 'HUN', 'IDN', 'ISR', 'JPN', 'MYS', 'MEX', 'NZL',\n",
    "                     'NOR', 'PER', 'PHL', 'POL', 'RUS', 'SAU', 'SGP', 'ZAF', 'KOR',\n",
    "                     'SWE', 'CHE', 'TWN', 'THA', 'TUR', 'ARE', 'USA', 'COL', 'CRI',\n",
    "                     'PAK', 'LKA', 'UKR', 'URY', 'IND', 'VNM', 'GTM', 'HND', # Venezuela removed\n",
    "                     'NIC', 'AZE', 'BHR', 'HRV', 'JOR', 'KWT', 'LBN', 'MDA', 'OMN',\n",
    "                     'QAT', 'ROU', 'EUZ']\n",
    "\n",
    "df = pd.read_csv(url, header = 0)\n",
    "\n",
    "bmi = df[(df['iso_a3'].isin(big_mac_countries)) & (df['date']==latest_date)].copy()\n",
    "    \n"
   ]
  },
  {
   "cell_type": "code",
   "execution_count": 112,
   "metadata": {},
   "outputs": [
    {
     "data": {
      "text/html": [
       "<div>\n",
       "<style scoped>\n",
       "    .dataframe tbody tr th:only-of-type {\n",
       "        vertical-align: middle;\n",
       "    }\n",
       "\n",
       "    .dataframe tbody tr th {\n",
       "        vertical-align: top;\n",
       "    }\n",
       "\n",
       "    .dataframe thead th {\n",
       "        text-align: right;\n",
       "    }\n",
       "</style>\n",
       "<table border=\"1\" class=\"dataframe\">\n",
       "  <thead>\n",
       "    <tr style=\"text-align: right;\">\n",
       "      <th></th>\n",
       "      <th>name</th>\n",
       "      <th>date</th>\n",
       "    </tr>\n",
       "  </thead>\n",
       "  <tbody>\n",
       "    <tr>\n",
       "      <th>0</th>\n",
       "      <td>Argentina</td>\n",
       "      <td>2000-04-01</td>\n",
       "    </tr>\n",
       "    <tr>\n",
       "      <th>1</th>\n",
       "      <td>Australia</td>\n",
       "      <td>2000-04-01</td>\n",
       "    </tr>\n",
       "    <tr>\n",
       "      <th>2</th>\n",
       "      <td>Brazil</td>\n",
       "      <td>2000-04-01</td>\n",
       "    </tr>\n",
       "    <tr>\n",
       "      <th>3</th>\n",
       "      <td>Britain</td>\n",
       "      <td>2000-04-01</td>\n",
       "    </tr>\n",
       "    <tr>\n",
       "      <th>4</th>\n",
       "      <td>Canada</td>\n",
       "      <td>2000-04-01</td>\n",
       "    </tr>\n",
       "    <tr>\n",
       "      <th>...</th>\n",
       "      <td>...</td>\n",
       "      <td>...</td>\n",
       "    </tr>\n",
       "    <tr>\n",
       "      <th>1653</th>\n",
       "      <td>Ukraine</td>\n",
       "      <td>2020-07-01</td>\n",
       "    </tr>\n",
       "    <tr>\n",
       "      <th>1654</th>\n",
       "      <td>Uruguay</td>\n",
       "      <td>2020-07-01</td>\n",
       "    </tr>\n",
       "    <tr>\n",
       "      <th>1655</th>\n",
       "      <td>United States</td>\n",
       "      <td>2020-07-01</td>\n",
       "    </tr>\n",
       "    <tr>\n",
       "      <th>1656</th>\n",
       "      <td>Vietnam</td>\n",
       "      <td>2020-07-01</td>\n",
       "    </tr>\n",
       "    <tr>\n",
       "      <th>1657</th>\n",
       "      <td>South Africa</td>\n",
       "      <td>2020-07-01</td>\n",
       "    </tr>\n",
       "  </tbody>\n",
       "</table>\n",
       "<p>1658 rows × 2 columns</p>\n",
       "</div>"
      ],
      "text/plain": [
       "               name        date\n",
       "0         Argentina  2000-04-01\n",
       "1         Australia  2000-04-01\n",
       "2            Brazil  2000-04-01\n",
       "3           Britain  2000-04-01\n",
       "4            Canada  2000-04-01\n",
       "...             ...         ...\n",
       "1653        Ukraine  2020-07-01\n",
       "1654        Uruguay  2020-07-01\n",
       "1655  United States  2020-07-01\n",
       "1656        Vietnam  2020-07-01\n",
       "1657   South Africa  2020-07-01\n",
       "\n",
       "[1658 rows x 2 columns]"
      ]
     },
     "execution_count": 112,
     "metadata": {},
     "output_type": "execute_result"
    }
   ],
   "source": [
    "bmi"
   ]
  },
  {
   "cell_type": "markdown",
   "metadata": {},
   "source": [
    "### E. Now we will calculate the  \"Big Mac Index\" (6 pts) \n",
    "\n",
    "\n",
    "Please use a `for` loop to create five columns in `bmi` which show the Big Mac Index of each country in relative to the base currencies in the list `base_currencies` (['USD', 'EUR', 'GBP', 'JPY', 'CNY']) (so you will have a `USD` column, a `EUR` column, etc.) \n",
    "\n",
    "For each column, its row value (recall that in the `bmi` dataframe, each row denotes a country) is equal to the given country's `dollar_price` divided by the `dollar_price` of the given base currency, minus 1. \n",
    "\n",
    "For instance, in the `USD` column, if the row is Canada whose `dollar_price` is approximately 5.07, then the value of this cell would be 5.07 divided by 5.71 (USA's `dollar_price`) then minus 1, which is about -0.11. \n",
    "\n",
    "This value shows whether a country's Big Mac is undervalued or overvalued by a percentage relative to each base currency's Big Mac value. This is the so called \"Big Mac Index\". "
   ]
  },
  {
   "cell_type": "markdown",
   "metadata": {},
   "source": [
    "**[Double click here to see hints]**\n",
    "\n",
    "<!---\n",
    "\n",
    "1. For each of the base currencies, first obtain the `dollar_price` for the base currency. After that, can you create the new column in one arithmetic expression? \n",
    "\n",
    "---->"
   ]
  },
  {
   "cell_type": "code",
   "execution_count": 15,
   "metadata": {},
   "outputs": [],
   "source": [
    "base_currencies = ['USD', 'EUR', 'GBP', 'JPY', 'CNY']\n",
    "\n",
    "## YOUR CODE HERE\n",
    "bmi = df[(df['iso_a3'].isin(big_mac_countries)) & (df['date']==latest_date)].copy()\n",
    "\n",
    "for currency in base_currencies:\n",
    "    base_value = float(bmi[(bmi['currency_code']==currency)]['dollar_price'])\n",
    "    bmi[currency] = bmi['dollar_price'] / base_value - 1\n",
    "    \n",
    "    \n",
    "    "
   ]
  },
  {
   "cell_type": "code",
   "execution_count": 14,
   "metadata": {
    "scrolled": true
   },
   "outputs": [
    {
     "data": {
      "text/plain": [
       "['USD', 'EUR', 'GBP', 'JPY', 'CNY']"
      ]
     },
     "execution_count": 14,
     "metadata": {},
     "output_type": "execute_result"
    }
   ],
   "source": [
    "base_currencies"
   ]
  },
  {
   "cell_type": "markdown",
   "metadata": {},
   "source": [
    "### F. Finally, let's visualize the Big Mac Index! (6 pts)\n",
    "\n",
    "Use a `for` loop to generate five separate bar graphs of the Big Mac Index, one for each of the five base currencies. The X axis should show the Big Mac Index (in relative to the given base currency), the Y axis should show each country in your dataframe. \n",
    "\n",
    "The steps are described as below:\n",
    "\n",
    "- First, sort your dataframe `bmi` by each base currency's Big Mac Index. \n",
    "\n",
    "- Then, plot the Big Mac Index using this command: `bmi.plot(kind = 'barh', x = , y = , figsize = (10, 10))` This line of code will plot the data and display the graphs for you. \n",
    "\n",
    "Note that: \n",
    "\n",
    "1. `kind = barh` plots a **horizontal** bar graph. Therefore, in your code, x should be the categorical variable (countries) and y should be the variable of interest (BMI index). \n",
    "\n",
    "2. For now, you don't need to worry about the titles, X/Y axis labels, and other aesthetics of the plots. A `for` loop with the above two lines of code are good enough for solving this problem. "
   ]
  },
  {
   "cell_type": "code",
   "execution_count": 16,
   "metadata": {},
   "outputs": [
    {
     "data": {
      "image/png": "[encoded data removed]",
      "text/plain": [
       "<Figure size 720x720 with 1 Axes>"
      ]
     },
     "metadata": {
      "needs_background": "light"
     },
     "output_type": "display_data"
    },
    {
     "data": {
      "image/png": "[encoded data removed]",
      "text/plain": [
       "<Figure size 720x720 with 1 Axes>"
      ]
     },
     "metadata": {
      "needs_background": "light"
     },
     "output_type": "display_data"
    },
    {
     "data": {
      "image/png": "[encoded data removed]",
      "text/plain": [
       "<Figure size 720x720 with 1 Axes>"
      ]
     },
     "metadata": {
      "needs_background": "light"
     },
     "output_type": "display_data"
    },
    {
     "data": {
      "image/png": "[encoded data removed]",
      "text/plain": [
       "<Figure size 720x720 with 1 Axes>"
      ]
     },
     "metadata": {
      "needs_background": "light"
     },
     "output_type": "display_data"
    },
    {
     "data": {
      "image/png": "[encoded data removed]",
      "text/plain": [
       "<Figure size 720x720 with 1 Axes>"
      ]
     },
     "metadata": {
      "needs_background": "light"
     },
     "output_type": "display_data"
    }
   ],
   "source": [
    "base_currencies = ['USD', 'EUR', 'GBP', 'JPY', 'CNY']\n",
    "\n",
    "## Your code here\n",
    "\n",
    "\n",
    "for currency in base_currencies:\n",
    "    bmi = bmi.sort_values(currency)\n",
    "    bmi.plot(kind = 'barh', x = 'name', y = currency, figsize = (10, 10))\n",
    "\n",
    "\n",
    "\n",
    "\n"
   ]
  },
  {
   "cell_type": "markdown",
   "metadata": {},
   "source": [
    "## Q9. Final Project (10 points + 5 bonus points)\n",
    "\n",
    "At the end of this pset, let's take some time to think about your final project.\n",
    "\n",
    "### A. First, in the *Markdown* cell below, please briefly introduce your final project. (5 pts)\n",
    "\n",
    "Specifically, write a short paragraph about:\n",
    "- what question(s) you will be asking in your final project;\n",
    "- what data you will be using to answer these question(s);\n",
    "- where did you find your data?\n",
    "\n",
    "\n",
    "For more information about the Final Project, please refer to [Blackboard > Discussions > Course Project](https://bbhosted.cuny.edu/webapps/discussionboard/do/message?action=list_messages&course_id=_1921309_1&nav=discussion_board_entry&conf_id=_2128455_1&forum_id=_2445267_1&message_id=_41966837_1)"
   ]
  },
  {
   "cell_type": "markdown",
   "metadata": {},
   "source": [
    "#### This is a *Markdown* cell. Please double click this cell, and you can type in your answer here.     \n",
    "\n",
    "Your response here:\n",
    "\n",
    "<br>\n",
    "<br>\n",
    "<br>\n",
    "My final project is about finding out how many minority MLB players that play in the Major Baseball prior to Jackie Robinson breaking the \"color barrier\" in 1947. The data used are from the variables year (specific MLB season ranging from from 1903 to 1946), ethnicity (player’s ethnicity rangning from White to Latino, to Native American) and #of_players (amount of players of a certain ethinicity). The data came from a database called data.world.\n",
    "\n",
    "\n",
    "\n",
    "\n",
    "\n",
    "\n",
    "\n",
    "\n",
    "\n",
    "\n"
   ]
  },
  {
   "cell_type": "markdown",
   "metadata": {},
   "source": [
    "### B. Please read in your data as a `pandas` dataframe, and display the first 20 rows of your dataframe. (5 pts)\n",
    "\n",
    "You may want to clean and format the data properly if the original dataset is large and messy (e.g. keep only the variables / subsets you need, rename the columns if necessary, etc.)"
   ]
  },
  {
   "cell_type": "code",
   "execution_count": 19,
   "metadata": {},
   "outputs": [],
   "source": [
    "## import necessary packages\n",
    "\n",
    "import pandas as pd\n",
    "import numpy as np\n",
    "\n",
    "## your code here\n",
    "\n",
    "df_finalproject = pd.read_excel('MLB Diversity V2.xlsx', sheet_name=2)\n",
    "\n",
    "\n",
    "\n"
   ]
  },
  {
   "cell_type": "code",
   "execution_count": 20,
   "metadata": {},
   "outputs": [
    {
     "data": {
      "text/html": [
       "<div>\n",
       "<style scoped>\n",
       "    .dataframe tbody tr th:only-of-type {\n",
       "        vertical-align: middle;\n",
       "    }\n",
       "\n",
       "    .dataframe tbody tr th {\n",
       "        vertical-align: top;\n",
       "    }\n",
       "\n",
       "    .dataframe thead th {\n",
       "        text-align: right;\n",
       "    }\n",
       "</style>\n",
       "<table border=\"1\" class=\"dataframe\">\n",
       "  <thead>\n",
       "    <tr style=\"text-align: right;\">\n",
       "      <th></th>\n",
       "      <th>year</th>\n",
       "      <th>ethnicity</th>\n",
       "      <th>of_players</th>\n",
       "    </tr>\n",
       "  </thead>\n",
       "  <tbody>\n",
       "    <tr>\n",
       "      <th>0</th>\n",
       "      <td>1903</td>\n",
       "      <td>Latino</td>\n",
       "      <td>0.000000</td>\n",
       "    </tr>\n",
       "    <tr>\n",
       "      <th>1</th>\n",
       "      <td>1903</td>\n",
       "      <td>White</td>\n",
       "      <td>0.995000</td>\n",
       "    </tr>\n",
       "    <tr>\n",
       "      <th>2</th>\n",
       "      <td>1903</td>\n",
       "      <td>Native American</td>\n",
       "      <td>0.005000</td>\n",
       "    </tr>\n",
       "    <tr>\n",
       "      <th>3</th>\n",
       "      <td>1904</td>\n",
       "      <td>Latino</td>\n",
       "      <td>0.000000</td>\n",
       "    </tr>\n",
       "    <tr>\n",
       "      <th>4</th>\n",
       "      <td>1904</td>\n",
       "      <td>White</td>\n",
       "      <td>0.995037</td>\n",
       "    </tr>\n",
       "    <tr>\n",
       "      <th>5</th>\n",
       "      <td>1904</td>\n",
       "      <td>Native American</td>\n",
       "      <td>0.004963</td>\n",
       "    </tr>\n",
       "    <tr>\n",
       "      <th>6</th>\n",
       "      <td>1905</td>\n",
       "      <td>Latino</td>\n",
       "      <td>0.000000</td>\n",
       "    </tr>\n",
       "    <tr>\n",
       "      <th>7</th>\n",
       "      <td>1905</td>\n",
       "      <td>White</td>\n",
       "      <td>0.995050</td>\n",
       "    </tr>\n",
       "    <tr>\n",
       "      <th>8</th>\n",
       "      <td>1905</td>\n",
       "      <td>Native American</td>\n",
       "      <td>0.004950</td>\n",
       "    </tr>\n",
       "    <tr>\n",
       "      <th>9</th>\n",
       "      <td>1906</td>\n",
       "      <td>Latino</td>\n",
       "      <td>0.000000</td>\n",
       "    </tr>\n",
       "    <tr>\n",
       "      <th>10</th>\n",
       "      <td>1906</td>\n",
       "      <td>White</td>\n",
       "      <td>0.993135</td>\n",
       "    </tr>\n",
       "    <tr>\n",
       "      <th>11</th>\n",
       "      <td>1906</td>\n",
       "      <td>Native American</td>\n",
       "      <td>0.006865</td>\n",
       "    </tr>\n",
       "    <tr>\n",
       "      <th>12</th>\n",
       "      <td>1907</td>\n",
       "      <td>Latino</td>\n",
       "      <td>0.000000</td>\n",
       "    </tr>\n",
       "    <tr>\n",
       "      <th>13</th>\n",
       "      <td>1907</td>\n",
       "      <td>White</td>\n",
       "      <td>0.995516</td>\n",
       "    </tr>\n",
       "    <tr>\n",
       "      <th>14</th>\n",
       "      <td>1907</td>\n",
       "      <td>Native American</td>\n",
       "      <td>0.004484</td>\n",
       "    </tr>\n",
       "    <tr>\n",
       "      <th>15</th>\n",
       "      <td>1908</td>\n",
       "      <td>Latino</td>\n",
       "      <td>0.000000</td>\n",
       "    </tr>\n",
       "    <tr>\n",
       "      <th>16</th>\n",
       "      <td>1908</td>\n",
       "      <td>White</td>\n",
       "      <td>0.993617</td>\n",
       "    </tr>\n",
       "    <tr>\n",
       "      <th>17</th>\n",
       "      <td>1908</td>\n",
       "      <td>Native American</td>\n",
       "      <td>0.006383</td>\n",
       "    </tr>\n",
       "    <tr>\n",
       "      <th>18</th>\n",
       "      <td>1909</td>\n",
       "      <td>Latino</td>\n",
       "      <td>0.000000</td>\n",
       "    </tr>\n",
       "    <tr>\n",
       "      <th>19</th>\n",
       "      <td>1909</td>\n",
       "      <td>White</td>\n",
       "      <td>0.992634</td>\n",
       "    </tr>\n",
       "  </tbody>\n",
       "</table>\n",
       "</div>"
      ],
      "text/plain": [
       "    year        ethnicity  of_players\n",
       "0   1903           Latino    0.000000\n",
       "1   1903            White    0.995000\n",
       "2   1903  Native American    0.005000\n",
       "3   1904           Latino    0.000000\n",
       "4   1904            White    0.995037\n",
       "5   1904  Native American    0.004963\n",
       "6   1905           Latino    0.000000\n",
       "7   1905            White    0.995050\n",
       "8   1905  Native American    0.004950\n",
       "9   1906           Latino    0.000000\n",
       "10  1906            White    0.993135\n",
       "11  1906  Native American    0.006865\n",
       "12  1907           Latino    0.000000\n",
       "13  1907            White    0.995516\n",
       "14  1907  Native American    0.004484\n",
       "15  1908           Latino    0.000000\n",
       "16  1908            White    0.993617\n",
       "17  1908  Native American    0.006383\n",
       "18  1909           Latino    0.000000\n",
       "19  1909            White    0.992634"
      ]
     },
     "execution_count": 20,
     "metadata": {},
     "output_type": "execute_result"
    }
   ],
   "source": [
    "df_finalproject.head(20)"
   ]
  },
  {
   "cell_type": "markdown",
   "metadata": {},
   "source": [
    "### C. Show a summary of the descriptive statistics of your data. (Optional, 5 bonus pts)\n",
    "\n",
    "You just need to write one line to earn up to 5 points!"
   ]
  },
  {
   "cell_type": "code",
   "execution_count": null,
   "metadata": {},
   "outputs": [],
   "source": [
    "## your code here\n",
    "\n",
    "\n",
    "\n",
    "\n",
    "\n",
    "\n",
    "\n",
    "\n"
   ]
  },
  {
   "cell_type": "markdown",
   "metadata": {},
   "source": [
    "---\n",
    "This is the end of Problem Set 1. \n",
    "\n",
    "*Please submit the .ipynb file via Blackboard by Oct 7, 6:30 pm.*"
   ]
  }
 ],
 "metadata": {
  "kernelspec": {
   "display_name": "Python 3",
   "language": "python",
   "name": "python3"
  },
  "language_info": {
   "codemirror_mode": {
    "name": "ipython",
    "version": 3
   },
   "file_extension": ".py",
   "mimetype": "text/x-python",
   "name": "python",
   "nbconvert_exporter": "python",
   "pygments_lexer": "ipython3",
   "version": "3.8.3"
  }
 },
 "nbformat": 4,
 "nbformat_minor": 2
}
