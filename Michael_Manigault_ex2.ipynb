{
 "cells": [
  {
   "cell_type": "code",
   "execution_count": 2,
   "metadata": {},
   "outputs": [],
   "source": [
    "import seaborn as sns  \n",
    "import numpy as np\n",
    "import pandas as pd\n",
    "\n",
    "df_finalproject = pd.read_excel('MLB Diversity V2.xlsx', sheet_name=2)"
   ]
  },
  {
   "cell_type": "code",
   "execution_count": 3,
   "metadata": {},
   "outputs": [
    {
     "data": {
      "text/html": [
       "<div>\n",
       "<style scoped>\n",
       "    .dataframe tbody tr th:only-of-type {\n",
       "        vertical-align: middle;\n",
       "    }\n",
       "\n",
       "    .dataframe tbody tr th {\n",
       "        vertical-align: top;\n",
       "    }\n",
       "\n",
       "    .dataframe thead th {\n",
       "        text-align: right;\n",
       "    }\n",
       "</style>\n",
       "<table border=\"1\" class=\"dataframe\">\n",
       "  <thead>\n",
       "    <tr style=\"text-align: right;\">\n",
       "      <th></th>\n",
       "      <th>year</th>\n",
       "      <th>ethnicity</th>\n",
       "      <th>of_players</th>\n",
       "    </tr>\n",
       "  </thead>\n",
       "  <tbody>\n",
       "    <tr>\n",
       "      <th>0</th>\n",
       "      <td>1903</td>\n",
       "      <td>Latino</td>\n",
       "      <td>0.000000</td>\n",
       "    </tr>\n",
       "    <tr>\n",
       "      <th>1</th>\n",
       "      <td>1903</td>\n",
       "      <td>White</td>\n",
       "      <td>0.995000</td>\n",
       "    </tr>\n",
       "    <tr>\n",
       "      <th>2</th>\n",
       "      <td>1903</td>\n",
       "      <td>Native American</td>\n",
       "      <td>0.005000</td>\n",
       "    </tr>\n",
       "    <tr>\n",
       "      <th>3</th>\n",
       "      <td>1904</td>\n",
       "      <td>Latino</td>\n",
       "      <td>0.000000</td>\n",
       "    </tr>\n",
       "    <tr>\n",
       "      <th>4</th>\n",
       "      <td>1904</td>\n",
       "      <td>White</td>\n",
       "      <td>0.995037</td>\n",
       "    </tr>\n",
       "    <tr>\n",
       "      <th>...</th>\n",
       "      <td>...</td>\n",
       "      <td>...</td>\n",
       "      <td>...</td>\n",
       "    </tr>\n",
       "    <tr>\n",
       "      <th>127</th>\n",
       "      <td>1945</td>\n",
       "      <td>White</td>\n",
       "      <td>0.962069</td>\n",
       "    </tr>\n",
       "    <tr>\n",
       "      <th>128</th>\n",
       "      <td>1945</td>\n",
       "      <td>Native American</td>\n",
       "      <td>0.008621</td>\n",
       "    </tr>\n",
       "    <tr>\n",
       "      <th>129</th>\n",
       "      <td>1946</td>\n",
       "      <td>Latino</td>\n",
       "      <td>0.014663</td>\n",
       "    </tr>\n",
       "    <tr>\n",
       "      <th>130</th>\n",
       "      <td>1946</td>\n",
       "      <td>White</td>\n",
       "      <td>0.976540</td>\n",
       "    </tr>\n",
       "    <tr>\n",
       "      <th>131</th>\n",
       "      <td>1946</td>\n",
       "      <td>Native American</td>\n",
       "      <td>0.008798</td>\n",
       "    </tr>\n",
       "  </tbody>\n",
       "</table>\n",
       "<p>132 rows × 3 columns</p>\n",
       "</div>"
      ],
      "text/plain": [
       "     year        ethnicity  of_players\n",
       "0    1903           Latino    0.000000\n",
       "1    1903            White    0.995000\n",
       "2    1903  Native American    0.005000\n",
       "3    1904           Latino    0.000000\n",
       "4    1904            White    0.995037\n",
       "..    ...              ...         ...\n",
       "127  1945            White    0.962069\n",
       "128  1945  Native American    0.008621\n",
       "129  1946           Latino    0.014663\n",
       "130  1946            White    0.976540\n",
       "131  1946  Native American    0.008798\n",
       "\n",
       "[132 rows x 3 columns]"
      ]
     },
     "execution_count": 3,
     "metadata": {},
     "output_type": "execute_result"
    }
   ],
   "source": [
    "df_finalproject"
   ]
  },
  {
   "cell_type": "code",
   "execution_count": 4,
   "metadata": {},
   "outputs": [
    {
     "name": "stderr",
     "output_type": "stream",
     "text": [
      "C:\\Users\\Mike Jr\\anaconda3\\lib\\site-packages\\seaborn\\axisgrid.py:723: UserWarning: Using the barplot function without specifying `order` is likely to produce an incorrect plot.\n",
      "  warnings.warn(warning)\n"
     ]
    },
    {
     "data": {
      "text/plain": [
       "Text(0.5, 1.01, 'Ethnicities of Players in Major League Baseball from 1902 to 1947')"
      ]
     },
     "execution_count": 4,
     "metadata": {},
     "output_type": "execute_result"
    },
    {
     "data": {
      "image/png": "[encoded data removed]",
      "text/plain": [
       "<Figure size 432x432 with 3 Axes>"
      ]
     },
     "metadata": {
      "needs_background": "light"
     },
     "output_type": "display_data"
    }
   ],
   "source": [
    "## Question 1\n",
    "count = sns.FacetGrid(df_finalproject, col = 'ethnicity', col_wrap = 2)\n",
    "count.map(sns.barplot, 'of_players')\n",
    "count.fig.suptitle('Ethnicities of Players in Major League Baseball from 1902 to 1947', y = 1.01)   "
   ]
  },
  {
   "cell_type": "code",
   "execution_count": 6,
   "metadata": {},
   "outputs": [
    {
     "data": {
      "text/plain": [
       "[Text(0, 0.0, '0.0'),\n",
       " Text(0, 0.2, '0.2'),\n",
       " Text(0, 0.4, '0.4'),\n",
       " Text(0, 0.6000000000000001, '0.6'),\n",
       " Text(0, 0.8, '0.8'),\n",
       " Text(0, 1.0, '1.0')]"
      ]
     },
     "execution_count": 6,
     "metadata": {},
     "output_type": "execute_result"
    },
    {
     "data": {
      "image/png": "[encoded data removed]",
      "text/plain": [
       "<Figure size 360x360 with 1 Axes>"
      ]
     },
     "metadata": {
      "needs_background": "light"
     },
     "output_type": "display_data"
    }
   ],
   "source": [
    "## Question 2\n",
    "grouped = sns.catplot(kind=\"bar\", x='ethnicity', y=\"of_players\", hue='ethnicity', data=df_finalproject, color='#0072B2')\n",
    "                      \n",
    "grouped.set_axis_labels('Percentage of Players', 'Ethnicity')\n",
    "grouped.fig.suptitle(\"Ethnicities of Players in Major League Baseball from 1902 to 1947\")\n",
    "grouped.ax.set_yticklabels(['0.0', '0.2', '0.4', '0.6', '0.8', '1.0']) "
   ]
  },
  {
   "cell_type": "markdown",
   "metadata": {},
   "source": [
    "Based on the data provided from the graphs, majority of the baseball players in Major League Baseball from 1902 to 1947 were White by a wide margin. Native Americans make up the second highest amount of players, but there is a massive percentage difference between the amount of White players and the amount of Native American players. The graph that conveys the main message more clearly is the grouped bar graph due to the fact that each variable can be found on the x-axis instead of being seperated on different side-by-side graphs."
   ]
  },
  {
   "cell_type": "code",
   "execution_count": null,
   "metadata": {},
   "outputs": [],
   "source": []
  }
 ],
 "metadata": {
  "kernelspec": {
   "display_name": "Python 3",
   "language": "python",
   "name": "python3"
  },
  "language_info": {
   "codemirror_mode": {
    "name": "ipython",
    "version": 3
   },
   "file_extension": ".py",
   "mimetype": "text/x-python",
   "name": "python",
   "nbconvert_exporter": "python",
   "pygments_lexer": "ipython3",
   "version": "3.8.3"
  }
 },
 "nbformat": 4,
 "nbformat_minor": 4
}
